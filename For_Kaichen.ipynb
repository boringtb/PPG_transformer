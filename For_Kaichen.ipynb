{
 "cells": [
  {
   "cell_type": "markdown",
   "id": "d6306875",
   "metadata": {},
   "source": [
    "### Emperical Mode Decomposition"
   ]
  },
  {
   "cell_type": "code",
   "execution_count": 1,
   "id": "f82765f5",
   "metadata": {},
   "outputs": [],
   "source": [
    "import pandas as pd\n",
    "from tqdm import tqdm"
   ]
  },
  {
   "cell_type": "code",
   "execution_count": null,
   "id": "517c71f7",
   "metadata": {},
   "outputs": [],
   "source": [
    "df = pd.read_pickle(\"data/data\")\n",
    "\n",
    "df_spo2 = df.iloc[:,4:2504]\n",
    "df_spo2[\"label\"] = df.iloc[:,-1]\n",
    "\n",
    "df_spo2 = df_spo2[df_spo2.label != 0]\n",
    "df_spo2.label.to_csv(\"data/spo2_label.csv\")"
   ]
  },
  {
   "cell_type": "code",
   "execution_count": null,
   "id": "c73d477c",
   "metadata": {},
   "outputs": [],
   "source": [
    "from PyEMD import EMD\n",
    "import numpy as np\n",
    "\n",
    "df_spo2_emd = df_spo2.drop([\"label\"],axis=1)\n",
    "emd = EMD()\n",
    "emd_result = []\n",
    "for i in tqdm(range(df_spo2_emd.shape[0])):\n",
    "    emd_result.append(emd(df_spo2_emd.iloc[i,:].values))"
   ]
  },
  {
   "cell_type": "code",
   "execution_count": null,
   "id": "5810d494",
   "metadata": {},
   "outputs": [],
   "source": [
    "X_train = []\n",
    "for i in tqdm(range(len(emd_result))):\n",
    "    X_train.append(np.array([df_spo2_emd.iloc[i,:].tolist(),emd_result[i][0],emd_result[i][1],emd_result[i][2]]))"
   ]
  },
  {
   "cell_type": "code",
   "execution_count": null,
   "id": "709ebfbb",
   "metadata": {},
   "outputs": [],
   "source": [
    "import torch\n",
    "X = torch.tensor(np.array(X_train))\n",
    "\n",
    "torch.save(X,\"data/EMD_spo_train_3.pt\")"
   ]
  },
  {
   "cell_type": "code",
   "execution_count": null,
   "id": "849d7212",
   "metadata": {},
   "outputs": [],
   "source": []
  },
  {
   "cell_type": "markdown",
   "id": "99be5d85",
   "metadata": {},
   "source": [
    "### Inceptiontime Model"
   ]
  },
  {
   "cell_type": "code",
   "execution_count": null,
   "id": "a38ea632",
   "metadata": {},
   "outputs": [],
   "source": [
    "### Need to start a new nb\n",
    "import os\n",
    "os.environ[\"CUDA_DEVICE_ORDER\"] = \"PCI_BUS_ID\"\n",
    "os.environ[\"CUDA_VISIBLE_DEVICES\"] = \"7\""
   ]
  },
  {
   "cell_type": "code",
   "execution_count": null,
   "id": "1d4d4ede",
   "metadata": {},
   "outputs": [],
   "source": [
    "import pdb\n",
    "import numpy as np\n",
    "import pandas as pd\n",
    "#from joblib import Parallel, delayed\n",
    "import multiprocessing\n",
    "from collections import Counter\n",
    "import pickle\n",
    "import tables\n",
    "from sklearn.model_selection import train_test_split\n",
    "from matplotlib import pyplot as plt\n",
    "from numpy import genfromtxt\n",
    "import seaborn as sns\n",
    "from sklearn import preprocessing\n",
    "from sklearn.metrics import roc_curve, auc,recall_score,precision_score\n",
    "import torch\n",
    "from tqdm import tqdm\n",
    "\n",
    "pd.options.display.max_columns = 200\n",
    "pd.options.display.max_rows = 200\n",
    "np.set_printoptions(threshold=np.inf)\n",
    "from tsai.all import *"
   ]
  },
  {
   "cell_type": "code",
   "execution_count": null,
   "id": "4d28fc7d",
   "metadata": {},
   "outputs": [],
   "source": [
    "X = torch.load(\"data/EMD_spo_train_3.pt\",map_location = torch.device('cpu')).type(torch.FloatTensor)\n",
    "spo2_label = pd.read_csv(\"data/spo2_label.csv\")\n",
    "\n",
    "splits = get_splits(y, valid_size=.3, show_plot=False)"
   ]
  },
  {
   "cell_type": "code",
   "execution_count": null,
   "id": "1468f961",
   "metadata": {},
   "outputs": [],
   "source": [
    "check_data(X, y, splits)"
   ]
  },
  {
   "cell_type": "code",
   "execution_count": null,
   "id": "0d013a41",
   "metadata": {},
   "outputs": [],
   "source": [
    "tfms = [None, TSRegression()]\n",
    "batch_tfms = TSStandardize(by_sample=True)"
   ]
  },
  {
   "cell_type": "code",
   "execution_count": null,
   "id": "637cee73",
   "metadata": {},
   "outputs": [],
   "source": [
    "dls = get_ts_dls(X, y, splits=splits, tfms=tfms, batch_tfms=batch_tfms)"
   ]
  },
  {
   "cell_type": "code",
   "execution_count": null,
   "id": "1e511b14",
   "metadata": {},
   "outputs": [],
   "source": []
  },
  {
   "cell_type": "code",
   "execution_count": null,
   "id": "a5ff1b05",
   "metadata": {},
   "outputs": [],
   "source": [
    "### pre-training\n",
    "learn = ts_learner(dls, InceptionTimePlus, cbs=[ShowGraph(), MVP(target_dir='./data/MVP', fname=\"ITP_200visits_all\")])\n",
    "learn.fit_one_cycle(100, 1e-2)"
   ]
  },
  {
   "cell_type": "code",
   "execution_count": null,
   "id": "e1ff9591",
   "metadata": {},
   "outputs": [],
   "source": [
    "n_epochs = 85\n",
    "learn = ts_learner(dls, InceptionTimePlus, pretrained=True, weights_path=f'data/MVP/ITP_200visits_all.pth', metrics=mae, cbs=CutMix1D())\n",
    "learn.fit_one_cycle(n_epochs, 6e-3)"
   ]
  },
  {
   "cell_type": "code",
   "execution_count": null,
   "id": "d2481ae7",
   "metadata": {},
   "outputs": [],
   "source": [
    "PATH = Path('./models/SPO2_pretraining_oridata1.pkl')\n",
    "PATH.parent.mkdir(parents=True, exist_ok=True)\n",
    "learn.export(PATH)"
   ]
  }
 ],
 "metadata": {
  "kernelspec": {
   "display_name": "Python 3",
   "language": "python",
   "name": "python3"
  },
  "language_info": {
   "codemirror_mode": {
    "name": "ipython",
    "version": 3
   },
   "file_extension": ".py",
   "mimetype": "text/x-python",
   "name": "python",
   "nbconvert_exporter": "python",
   "pygments_lexer": "ipython3",
   "version": "3.6.8"
  }
 },
 "nbformat": 4,
 "nbformat_minor": 5
}
